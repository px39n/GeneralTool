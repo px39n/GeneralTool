{
 "cells": [
  {
   "cell_type": "code",
   "execution_count": null,
   "metadata": {},
   "outputs": [],
   "source": [
    "def preprocess():\n",
    "    import numpy as np\n",
    "    import matplotlib.pyplot as plt\n",
    "    import matplotlib.cm as cm\n",
    "    f,((ax1,ax2))=plt.subplots(1,2)\n",
    "    N = 30\n",
    "    arr = np.zeros((N, N))\n",
    "    arr[5, 10] = 1\n",
    "    arr[N-5, N-10] = 1\n",
    "    #process\n",
    "    #res=fourier_2d(arr)\n",
    "    ax1.imshow(arr, cmap=cm.Reds)\n",
    "    ax2.imshow(np.real(res), cmap=cm.gray)\n",
    "    plt.show()\n",
    "    print(res)\n",
    "preprocess()"
   ]
  },
  {
   "cell_type": "markdown",
   "metadata": {},
   "source": [
    "# 归一化  (all 等距比)\n",
    "\n",
    "1. z-score 缩放到均值为0，方差为1 standard \n",
    "\n",
    "$x' = \\frac{x-\\mu}{\\sigma}$\n",
    "\n",
    "2. 缩放到0和1之间 (0-1 default)  maxmin\n",
    "\n",
    "3. 缩放到-1和1之间 等比\n",
    "\n",
    "4. 缩放到0和1之间，保留原始数据的分布"
   ]
  },
  {
   "cell_type": "code",
   "execution_count": null,
   "metadata": {},
   "outputs": [],
   "source": [
    "def standard(arr):\n",
    "    #ARR IS numpy arr \n",
    "    from sklearn.preprocessing import StandardScaler\n",
    "    sc = StandardScaler()\n",
    "    \n",
    "    return sc.fit_transform(arr)\n",
    "\n",
    "def maxmin(arr):\n",
    "    import sklearn.preprocessing\n",
    "    return sklearn.preprocessing.minmax_scale(arr, feature_range=(0, 1))\n",
    "     "
   ]
  },
  {
   "cell_type": "markdown",
   "metadata": {},
   "source": [
    "# Fourier"
   ]
  },
  {
   "cell_type": "code",
   "execution_count": null,
   "metadata": {},
   "outputs": [],
   "source": [
    "\n",
    "#res=np.real(fourier_2d(arr))\n",
    "def fourier_2d(arr):\n",
    "    from scipy.fft import ifftn\n",
    "    Z = ifftn(arr)\n",
    "    return Z\n",
    "\n"
   ]
  },
  {
   "cell_type": "code",
   "execution_count": null,
   "metadata": {},
   "outputs": [],
   "source": []
  }
 ],
 "metadata": {
  "kernelspec": {
   "display_name": "Python 3",
   "language": "python",
   "name": "python3"
  },
  "language_info": {
   "codemirror_mode": {
    "name": "ipython",
    "version": 3
   },
   "file_extension": ".py",
   "mimetype": "text/x-python",
   "name": "python",
   "nbconvert_exporter": "python",
   "pygments_lexer": "ipython3",
   "version": "3.6.7"
  }
 },
 "nbformat": 4,
 "nbformat_minor": 4
}
