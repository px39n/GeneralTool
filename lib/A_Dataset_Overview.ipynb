{
 "cells": [
  {
   "cell_type": "markdown",
   "metadata": {},
   "source": [
    "# Indian Pines Dataset for hyperspectral classifcation\n",
    "\n",
    "Our dataset is gathered by the Airborne Visible/Infrared Imaging Spectrometer (AVIRIS) hyperspectral sensor data. Indian Pines dataset was recorded over Northwestern Indiana, USA, and consists of **145x145 pixels** and **224 spectral bands/channels** in the wavelength range **0.4–2.5 10^(-6) meters**. This AVIRIS image file represents a 2 mile by 2 mile area at 20 meters spatial resolution. Indian Pines data are available through Pursue's univeristy MultiSpec site. A Matlab version is also available in here where the most noisy bands ([104-108], [150-163], 220) were removed, leaving a total of 200 bands to work with. The Indian Pines scene contains two-thirds agriculture, and one-third forest or other natural perennial vegetation. There are two major dual lane highways, a rail line, as well as some low density housing, other built structures, and smaller roads. The ground truth available is designated into **sixteen classes** (seventeen if you consider the background) and is not all mutually exclusive.\n"
   ]
  },
  {
   "cell_type": "code",
   "execution_count": 8,
   "metadata": {},
   "outputs": [],
   "source": [
    "def load_Indian_DS():\n",
    "    import numpy as np\n",
    "    import matplotlib.pyplot as plt\n",
    "    import scipy.io as io\n",
    "    dataset = io.loadmat('../File/RS_data/hyper_classification_7/indianpines_dataset.mat')\n",
    "    number_of_bands = int(dataset['number_of_bands'])\n",
    "    number_of_rows = int(dataset['number_of_rows'])\n",
    "    number_of_columns = int(dataset['number_of_columns'])\n",
    "    pixels = np.transpose(dataset['pixels'])\n",
    "\n",
    "    groundtruth = io.loadmat('../File/RS_data/hyper_classification_7/indianpines_gt.mat')\n",
    "    gt = np.transpose(groundtruth['pixels'])\n",
    "    return pixels,gt,number_of_bands,number_of_rows,number_of_columns\n",
    "    # dataset, groundtruth array(145,145, 200/1)\n",
    "    # pixels,gt   array(21025, 200/1)"
   ]
  },
  {
   "cell_type": "code",
   "execution_count": 9,
   "metadata": {},
   "outputs": [
    {
     "data": {
      "text/plain": [
       "(array([[3172, 3172, 4142, ..., 1069, 1057, 1020],\n",
       "        [3348, 3348, 4266, ..., 1085, 1064, 1029],\n",
       "        [3687, 3687, 4266, ..., 1092, 1061, 1030],\n",
       "        ...,\n",
       "        [3153, 3864, 4282, ..., 1003, 1008, 1000],\n",
       "        [3155, 4104, 4109, ..., 1011, 1005, 1003],\n",
       "        [3323, 3860, 4197, ..., 1007, 1004, 1000]], dtype=uint16),\n",
       " array([[3],\n",
       "        [3],\n",
       "        [3],\n",
       "        ...,\n",
       "        [0],\n",
       "        [0],\n",
       "        [0]], dtype=uint8))"
      ]
     },
     "execution_count": 9,
     "metadata": {},
     "output_type": "execute_result"
    }
   ],
   "source": []
  },
  {
   "cell_type": "code",
   "execution_count": null,
   "metadata": {},
   "outputs": [],
   "source": []
  }
 ],
 "metadata": {
  "kernelspec": {
   "display_name": "Python 3",
   "language": "python",
   "name": "python3"
  },
  "language_info": {
   "codemirror_mode": {
    "name": "ipython",
    "version": 3
   },
   "file_extension": ".py",
   "mimetype": "text/x-python",
   "name": "python",
   "nbconvert_exporter": "python",
   "pygments_lexer": "ipython3",
   "version": "3.6.7"
  }
 },
 "nbformat": 4,
 "nbformat_minor": 4
}
