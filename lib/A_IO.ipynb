{
 "cells": [
  {
   "cell_type": "code",
   "execution_count": null,
   "metadata": {},
   "outputs": [],
   "source": [
    "def extract_zip(zip_path):\n",
    "  (path, filename) = os.path.split(zip_path)\n",
    "  fz = zipfile.ZipFile(zip_path, 'r')\n",
    "  for file in fz.namelist():\n",
    "    fz.extract(file, path+\"//\"+os.path.splitext(filename)[0])\n",
    "  if os.path.exists(zip_path):\n",
    "      os.remove(zip_path)"
   ]
  },
  {
   "cell_type": "code",
   "execution_count": null,
   "metadata": {},
   "outputs": [],
   "source": [
    "import os\n",
    "os.path.isfile('D:\\Code\\GeneralTool\\File\\word.csv')\n",
    "os.path.isdir(FILE_PATH)\n",
    "os.getcwd()\n",
    "\n",
    "(filepath,filename) = os.path.split(path)\n",
    "        filename=os.path.splitext(filename)[0]+\"_GT.csv\"\n",
    "        filepath=filepath+\"\\label\\\\\"\n",
    "        print(filepath+filename)"
   ]
  },
  {
   "cell_type": "code",
   "execution_count": null,
   "metadata": {},
   "outputs": [],
   "source": [
    "import sys\n",
    "\n",
    "import csv\n",
    "import platform\n",
    "import pandas as pd\n",
    "import os\n",
    "\n",
    "sys.path.append('..')\n",
    "#item=\"asdf.csv\"\n",
    "#print(os.path.splitext(item)[0]) 去除后缀\n",
    "url=\"File\\word.csv\"\n",
    "#读取txt\n",
    "# data=pd.read_csv(url,\",\",header=None,converters={i: str for i in range(0, 100)}).values.tolist()  #无标题\n",
    "# gd_data=pd.read_csv(url,\",\",dtype=object,header=0,usecols=[5,4],names=[\"tag\",\"wayz\"])                       #有标题\n",
    "\n",
    "#写入txt\n",
    "# pd.DataFrame(data).to_csv(url,index=False,header=False,encoding=\"utf_8_sig\")\n",
    "np.array(Image.open(image))\n",
    "\n",
    "def csv_union(url1,url2,finalurl):\n",
    "    left = pd.read_csv(url1, \",\", header=0, converters={i: str for i in range(0, 100)})  # 无标题\n",
    "    right = pd.read_csv(url2, \",\", header=0, converters={i: str for i in range(0, 100)})  # 无标题\n",
    "    left.columns = [\"city\",\"code\",\"level\"]\n",
    "    right.columns=[\"city\",\"class_name\",\"amount\"]\n",
    "    result = pd.merge(left, right, how='left', on=\"city\")\n",
    "    result.to_csv(finalurl,index=False,header=False,encoding=\"utf_8_sig\")\n",
    "data=pd.read_csv(\"D:\\Code\\GeneralTool\\File\\good.csv\",\",\",header=None,converters={i: str for i in range(0, 100)}).values.tolist()\n",
    "for i in data:\n",
    "    i[0]=i[0]+\"市\"\n",
    "pd.DataFrame(data).to_csv(\"D:\\Code\\GeneralTool\\File\\good.csv\",index=False,header=False,encoding=\"utf_8_sig\")\n",
    "csv_union(\"D:\\Code\\GeneralTool\\File\\city.csv\",\"D:\\Code\\GeneralTool\\File\\good.csv\",\"D:\\Code\\GeneralTool\\File\\perfect.csv\")\n"
   ]
  }
 ],
 "metadata": {
  "kernelspec": {
   "display_name": "Python 3",
   "language": "python",
   "name": "python3"
  },
  "language_info": {
   "codemirror_mode": {
    "name": "ipython",
    "version": 3
   },
   "file_extension": ".py",
   "mimetype": "text/x-python",
   "name": "python",
   "nbconvert_exporter": "python",
   "pygments_lexer": "ipython3",
   "version": "3.6.7"
  }
 },
 "nbformat": 4,
 "nbformat_minor": 4
}
