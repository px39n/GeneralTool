{
 "cells": [
  {
   "cell_type": "code",
   "execution_count": null,
   "metadata": {},
   "outputs": [],
   "source": [
    "# asdf"
   ]
  },
  {
   "cell_type": "code",
   "execution_count": null,
   "metadata": {},
   "outputs": [],
   "source": [
    "#Datetime\n",
    "\n",
    "ndvi_date=\"D:/Code/GeneralTool/File/tutorial_data/time_series_date.txt\"\n",
    "ndvi=np.load(url)[:,3,3]\n",
    "ndvi_date = pd.read_csv(ndvi_date,header=None)\n",
    "ndvi_date=pd.to_datetime(ndvi_date[0],format=\"%Y-%m-%d\")"
   ]
  },
  {
   "cell_type": "code",
   "execution_count": null,
   "metadata": {},
   "outputs": [],
   "source": []
  },
  {
   "cell_type": "code",
   "execution_count": null,
   "metadata": {},
   "outputs": [],
   "source": [
    "import pandas as pd \n",
    "\n",
    "df=pd.DataFrame([1,2,3])\n",
    "\n",
    "df[\"name\"][1:5]\n",
    "df.iloc[1:3,:]\n",
    "\n",
    "'''excel操作\n",
    "\n",
    "取值\n",
    "排序\n",
    "df=df[[\"wayz\",\"tag\"]]                   #重新排序\n",
    "\n",
    "插入删除\n",
    "df.drop(x,axis=1)                                                 #删除x列\n",
    "df.insert(x, 'mark',['' for i in range(df.shape[0])])             #插入某一列\n",
    "\n",
    "统计\n",
    "df.shape[1]                 #列数\n",
    "col_name=list(df)                     #获取表头列表\n",
    "df.describe()           #自动统计std, mean, min/max\n",
    "df.xxx.hist()           #某一列的直方图\n",
    "\n",
    "df[].unique()\n",
    "'''\n",
    "\n",
    "\n",
    "'''多值操作\n",
    "gd_data[\"wayz\"]=gd_data[\"wayz\"].map(lambda x:x[0:3])            #对某一列操作\n",
    "\n",
    "'''\n"
   ]
  }
 ],
 "metadata": {
  "kernelspec": {
   "display_name": "Python 3",
   "language": "python",
   "name": "python3"
  },
  "language_info": {
   "codemirror_mode": {
    "name": "ipython",
    "version": 3
   },
   "file_extension": ".py",
   "mimetype": "text/x-python",
   "name": "python",
   "nbconvert_exporter": "python",
   "pygments_lexer": "ipython3",
   "version": "3.6.7"
  }
 },
 "nbformat": 4,
 "nbformat_minor": 4
}
