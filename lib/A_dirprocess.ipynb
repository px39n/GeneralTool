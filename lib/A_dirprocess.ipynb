{
 "cells": [
  {
   "cell_type": "code",
   "execution_count": null,
   "metadata": {},
   "outputs": [],
   "source": [
    "# directory\n",
    "import os\n"
   ]
  },
  {
   "cell_type": "markdown",
   "metadata": {},
   "source": [
    "## Dir\n",
    "\n",
    "1. Get CwD, split part of dir\n",
    "2. get all file path in dir"
   ]
  },
  {
   "cell_type": "code",
   "execution_count": null,
   "metadata": {},
   "outputs": [],
   "source": [
    "data_dir=\"D:\\\\Data\\\\wheat ears counting\\\\train\\\\P_G_M_1.jpg\""
   ]
  },
  {
   "cell_type": "code",
   "execution_count": null,
   "metadata": {},
   "outputs": [],
   "source": [
    "\n",
    "os.getcwd() \n",
    "(path, filename) = os.path.split(data_dir)\n",
    "print(path)\n",
    "print(filename)\n",
    "print(os.path.splitext(filename))\n",
    "#os.listdir(\"D:\\\\Data\\\\wheat ears counting\\\\train\")\n",
    "\n"
   ]
  },
  {
   "cell_type": "code",
   "execution_count": null,
   "metadata": {},
   "outputs": [],
   "source": [
    "def get_all_filepath(path,extension):\n",
    "    a=[]\n",
    "    datanames = os.listdir(path)\n",
    "    for dataname in datanames:\n",
    "        if os.path.splitext(dataname)[1] == extension: \n",
    "            a.append(path+dataname)\n",
    "    return a\n",
    "get_all_filepath(path,\"jpg\")"
   ]
  },
  {
   "cell_type": "markdown",
   "metadata": {},
   "source": [
    "## 相对路径\n",
    "\n",
    "../ 表示当前文件所在的目录的上一级目录\n",
    "\n",
    "./ 表示当前文件所在的目录(可以省略)\n",
    "\n",
    "/ 表示当前站点的根目录(域名映射的硬盘目录)\n"
   ]
  },
  {
   "cell_type": "code",
   "execution_count": null,
   "metadata": {},
   "outputs": [],
   "source": []
  }
 ],
 "metadata": {
  "kernelspec": {
   "display_name": "Python 3",
   "language": "python",
   "name": "python3"
  },
  "language_info": {
   "codemirror_mode": {
    "name": "ipython",
    "version": 3
   },
   "file_extension": ".py",
   "mimetype": "text/x-python",
   "name": "python",
   "nbconvert_exporter": "python",
   "pygments_lexer": "ipython3",
   "version": "3.6.7"
  }
 },
 "nbformat": 4,
 "nbformat_minor": 4
}
