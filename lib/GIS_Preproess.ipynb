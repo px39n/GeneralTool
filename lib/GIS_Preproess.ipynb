{
 "cells": [
  {
   "cell_type": "code",
   "execution_count": 23,
   "metadata": {},
   "outputs": [],
   "source": [
    "#TIF to JPG\n",
    "\n",
    "from PIL import Image\n",
    "import glob\n",
    "import numpy as np\n",
    "from osgeo import gdal\n",
    "import os\n",
    "path=\"D:\\\\BaiduNetdiskDownload\\\\clip\\\\1_1m_clip.tif\"\n",
    "print(os.path.exists(path))\n",
    "ds = gdal.Open(path)\n",
    "ddd\n",
    "g *= 255.0/r.max()   \n",
    "g *= 255.0/g.max()   \n",
    "r *= 255.0/b.max()   \n",
    "import matplotlib.pylab as plt\n",
    "a=np.dstack((r,g,b)).astype('uint8')\n",
    "plt.imshow(a) \n",
    "name = str(path).rstrip(\".tif\")\n",
    "im = Image.fromarray(a)\n",
    "im.save(name + '.png')\n",
    " "
   ]
  },
  {
   "cell_type": "code",
   "execution_count": null,
   "metadata": {},
   "outputs": [],
   "source": [
    "gdal_translate -of PNG -ot UInt16 -scale 32.53501 767.4913 0 65535 \"D:\\\\BaiduNetdiskDownload\\\\clip\\\\1_1m_clip.tif\" \"D:\\\\BaiduNetdiskDownload\\\\clip\\\\1_1m_clip.png\""
   ]
  },
  {
   "cell_type": "code",
   "execution_count": 9,
   "metadata": {},
   "outputs": [
    {
     "name": "stdout",
     "output_type": "stream",
     "text": [
      "True\n"
     ]
    }
   ],
   "source": [
    "#TIF to JPG\n",
    "\n",
    "from PIL import Image\n",
    "import glob\n",
    "import numpy as np\n",
    "from osgeo import gdal\n",
    "import os\n",
    "path=\"D:\\BaiduNetdiskDownload\\clip\\\\1.tif\"\n",
    "path2=\"D:\\BaiduNetdiskDownload\\clip\\\\4m_resolution.png\"\n",
    "print(os.path.exists(path))\n",
    "img = np.array(Image.open(path2))\n",
    "ds = gdal.Open(path)\n",
    "\n",
    "gtiff_driver = gdal.GetDriverByName('GTiff')\n",
    "out_ds = gtiff_driver.Create(\"D:\\BaiduNetdiskDownload\\clip\\\\4m_resolution.tif\",\n",
    "                         img.shape[1], img.shape[0], 1, gdal.GDT_Float32)\n",
    "\n",
    "out_ds.GetRasterBand(1).WriteArray(img[...,0])\n",
    "out_ds.SetProjection(ds.GetProjection())\n",
    "out_ds.SetGeoTransform(ds.GetGeoTransform())\n",
    "out_ds.FlushCache()\n",
    "\n"
   ]
  },
  {
   "cell_type": "code",
   "execution_count": 24,
   "metadata": {},
   "outputs": [
    {
     "ename": "ModuleNotFoundError",
     "evalue": "No module named 'arcpy'",
     "output_type": "error",
     "traceback": [
      "\u001b[1;31m---------------------------------------------------------------------------\u001b[0m",
      "\u001b[1;31mModuleNotFoundError\u001b[0m                       Traceback (most recent call last)",
      "\u001b[1;32m<ipython-input-24-5467a3dc9fe3>\u001b[0m in \u001b[0;36m<module>\u001b[1;34m\u001b[0m\n\u001b[1;32m----> 1\u001b[1;33m \u001b[1;32mimport\u001b[0m \u001b[0marcpy\u001b[0m\u001b[1;33m\u001b[0m\u001b[1;33m\u001b[0m\u001b[0m\n\u001b[0m",
      "\u001b[1;31mModuleNotFoundError\u001b[0m: No module named 'arcpy'"
     ]
    }
   ],
   "source": [
    "import arcpy\n"
   ]
  },
  {
   "cell_type": "code",
   "execution_count": null,
   "metadata": {},
   "outputs": [],
   "source": []
  }
 ],
 "metadata": {
  "kernelspec": {
   "display_name": "Python 3",
   "language": "python",
   "name": "python3"
  },
  "language_info": {
   "codemirror_mode": {
    "name": "ipython",
    "version": 3
   },
   "file_extension": ".py",
   "mimetype": "text/x-python",
   "name": "python",
   "nbconvert_exporter": "python",
   "pygments_lexer": "ipython3",
   "version": "3.6.7"
  }
 },
 "nbformat": 4,
 "nbformat_minor": 4
}
