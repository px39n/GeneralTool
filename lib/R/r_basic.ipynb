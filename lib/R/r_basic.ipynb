{
 "cells": [
  {
   "cell_type": "markdown",
   "metadata": {},
   "source": [
    "# Basic"
   ]
  },
  {
   "cell_type": "markdown",
   "metadata": {},
   "source": [
    "### Calculate"
   ]
  },
  {
   "cell_type": "code",
   "execution_count": 14,
   "metadata": {},
   "outputs": [
    {
     "name": "stdout",
     "output_type": "stream",
     "text": [
      "[1] \"Hello, World!\"\n"
     ]
    }
   ],
   "source": [
    "a =1   #a<-1  1->a\n",
    "c=a+b/a*(a+b)^a*log(a)+sqrt(4)+exp(1)+floor(1.2)+ceiling(1.3)\n",
    "c=cos(pi/4)+sin(pi)+tan(pi/3)\n",
    "print(cat(1, \"加\", 1, \"等于\", 2))\n",
    "#dpqr\n",
    "pnorm(0)"
   ]
  },
  {
   "cell_type": "markdown",
   "metadata": {},
   "source": [
    "### List"
   ]
  },
  {
   "cell_type": "code",
   "execution_count": 52,
   "metadata": {},
   "outputs": [
    {
     "name": "stdout",
     "output_type": "stream",
     "text": [
      "[1] 10 30\n",
      "[1] 20 40 50 60\n",
      "[1] 10 20 30\n",
      "[1] TRUE\n",
      "[1] 60 50 40 30 20 10\n",
      "[1] 18.70829\n",
      "[1] 10 10 10 10 10\n",
      "[1] 20 30\n",
      "[1] 10\n"
     ]
    },
    {
     "data": {
      "text/html": [
       "3"
      ],
      "text/latex": [
       "3"
      ],
      "text/markdown": [
       "3"
      ],
      "text/plain": [
       "[1] 3"
      ]
     },
     "metadata": {},
     "output_type": "display_data"
    }
   ],
   "source": [
    "a = sqrt(c(10, 20, 30, 40, 50,60)^2*2/2)\n",
    "a= seq(10,60,10)  # seq(10,50, length.out=5)\n",
    "b=rep(10,5)\n",
    "print(a[c(1,3)])\n",
    "print(a[c(-1,-3)])\n",
    "print(a[1:3])\n",
    "print(10%in%a)\n",
    "\n",
    "#排序\n",
    "print(rev(sort(a)))\n",
    "print(sd(a)) #mean, sum, var, sd, min, max, range\n",
    "print(b)\n",
    "\n",
    "#lambda\n",
    "print(a[which(a >= 20 & a < 40)])\n",
    "\n",
    "# Matrix\n",
    "m1=matrix(a,2,3,byrow=TRUE)\n",
    "colnames(m1) = c(\"x\", \"y\", \"z\")\n",
    "rownames(m1) = c(\"a\", \"b\")\n",
    "print(m1[1,1])\n",
    "\n",
    "m1 = matrix(c(1, 2), 1, 2)\n",
    "m2 = matrix(c(3, 4), 2, 1)\n",
    "m3= m1 %*% m2\n",
    "apply(m1, 1, sum)"
   ]
  },
  {
   "cell_type": "markdown",
   "metadata": {},
   "source": [
    "### table"
   ]
  },
  {
   "cell_type": "code",
   "execution_count": 3,
   "metadata": {},
   "outputs": [
    {
     "data": {
      "text/html": [
       "<table>\n",
       "<thead><tr><th></th><th scope=col>姓名</th><th scope=col>工号</th></tr></thead>\n",
       "<tbody>\n",
       "\t<tr><th scope=row>2</th><td>李四</td><td>002 </td></tr>\n",
       "\t<tr><th scope=row>NA</th><td>NA  </td><td>NA  </td></tr>\n",
       "</tbody>\n",
       "</table>\n"
      ],
      "text/latex": [
       "\\begin{tabular}{r|ll}\n",
       "  & 姓名 & 工号\\\\\n",
       "\\hline\n",
       "\t2 & 李四 & 002 \\\\\n",
       "\tNA & NA   & NA  \\\\\n",
       "\\end{tabular}\n"
      ],
      "text/markdown": [
       "\n",
       "| <!--/--> | 姓名 | 工号 |\n",
       "|---|---|---|\n",
       "| 2 | 李四 | 002  |\n",
       "| NA | NA   | NA   |\n",
       "\n"
      ],
      "text/plain": [
       "   姓名 工号\n",
       "2  李四 002 \n",
       "NA NA   NA  "
      ]
     },
     "metadata": {},
     "output_type": "display_data"
    }
   ],
   "source": [
    "table = data.frame(\n",
    "    姓名 = c(\"张三\", \"李四\"),\n",
    "    工号 = c(\"001\",\"002\"),\n",
    "    月薪 = c(1000, 2000)\n",
    ")\n",
    "table$部门 <- c(\"运营\",\"技术\",\"编辑\")\n",
    "result = data.frame(table$姓名,table$月薪)\n",
    "result <- table[c(2,3),c(1,2)]\n",
    "\n",
    "result"
   ]
  },
  {
   "cell_type": "code",
   "execution_count": 19,
   "metadata": {},
   "outputs": [
    {
     "data": {
      "text/html": [
       "1"
      ],
      "text/latex": [
       "1"
      ],
      "text/markdown": [
       "1"
      ],
      "text/plain": [
       "[1] 1"
      ]
     },
     "metadata": {},
     "output_type": "display_data"
    }
   ],
   "source": []
  },
  {
   "cell_type": "markdown",
   "metadata": {},
   "source": [
    "# IO"
   ]
  },
  {
   "cell_type": "code",
   "execution_count": 7,
   "metadata": {},
   "outputs": [],
   "source": [
    "url=\"D:/Code/GeneralTool/File/test.txt\"\n",
    "cat(\"RUNOOB\", file=url)\n",
    "cat(\"GOOGLE\", file=url, append=TRUE)"
   ]
  },
  {
   "cell_type": "code",
   "execution_count": 8,
   "metadata": {},
   "outputs": [
    {
     "name": "stderr",
     "output_type": "stream",
     "text": [
      "Warning message in readLines(url):\n",
      "\"读'D:/Code/GeneralTool/File/test.txt'时最后一行未遂\""
     ]
    },
    {
     "data": {
      "text/html": [
       "'RUNOOBGOOGLE'"
      ],
      "text/latex": [
       "'RUNOOBGOOGLE'"
      ],
      "text/markdown": [
       "'RUNOOBGOOGLE'"
      ],
      "text/plain": [
       "[1] \"RUNOOBGOOGLE\""
      ]
     },
     "metadata": {},
     "output_type": "display_data"
    }
   ],
   "source": [
    "readLines(url)"
   ]
  },
  {
   "cell_type": "code",
   "execution_count": 1,
   "metadata": {},
   "outputs": [
    {
     "ename": "ERROR",
     "evalue": "Error in library(greenbrown): there is no package called 'greenbrown'\n",
     "output_type": "error",
     "traceback": [
      "Error in library(greenbrown): there is no package called 'greenbrown'\nTraceback:\n",
      "1. library(greenbrown)"
     ]
    }
   ],
   "source": [
    "\n"
   ]
  },
  {
   "cell_type": "code",
   "execution_count": null,
   "metadata": {},
   "outputs": [],
   "source": [
    "\n"
   ]
  }
 ],
 "metadata": {
  "kernelspec": {
   "display_name": "R",
   "language": "R",
   "name": "ir"
  },
  "language_info": {
   "codemirror_mode": "r",
   "file_extension": ".r",
   "mimetype": "text/x-r-source",
   "name": "R",
   "pygments_lexer": "r",
   "version": "3.6.1"
  }
 },
 "nbformat": 4,
 "nbformat_minor": 4
}
