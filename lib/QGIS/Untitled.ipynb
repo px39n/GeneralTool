{
 "cells": [
  {
   "cell_type": "code",
   "execution_count": null,
   "metadata": {},
   "outputs": [],
   "source": [
    "QgsApplication.prefixPath()"
   ]
  },
  {
   "cell_type": "markdown",
   "metadata": {},
   "source": [
    "## Shell\n"
   ]
  },
  {
   "cell_type": "code",
   "execution_count": null,
   "metadata": {},
   "outputs": [],
   "source": [
    "from qgis.core import *\n",
    "#import qgis.utils\n",
    "\n",
    "#QgsApplication.setPrefixPath(\"/path/to/qgis/installation\", True)\n",
    "\n",
    "#START\n",
    "qgs = QgsApplication([], False)\n",
    "qgs.initQgis()\n",
    "\n",
    "'''\n",
    "The Application You are going to run with it.\n",
    "'''\n",
    "\n",
    "#END\n",
    "qgs.exitQgis()\n"
   ]
  },
  {
   "cell_type": "markdown",
   "metadata": {},
   "source": [
    "# Project"
   ]
  },
  {
   "cell_type": "code",
   "execution_count": null,
   "metadata": {},
   "outputs": [],
   "source": [
    "from qgis.core import (\n",
    "    QgsProject,\n",
    "    QgsPathResolver\n",
    ")\n",
    "\n",
    "from qgis.gui import (\n",
    "    QgsLayerTreeMapCanvasBridge,\n",
    ")"
   ]
  },
  {
   "cell_type": "code",
   "execution_count": null,
   "metadata": {},
   "outputs": [],
   "source": [
    "\n",
    "# 新建\n",
    "project = QgsProject.instance()\n",
    "\n",
    "\n",
    "# 保存\n",
    "project.write()\n",
    "project.write('testdata/my_new_qgis_project.qgs')"
   ]
  }
 ],
 "metadata": {
  "kernelspec": {
   "display_name": "Python 3",
   "language": "python",
   "name": "python3"
  },
  "language_info": {
   "codemirror_mode": {
    "name": "ipython",
    "version": 3
   },
   "file_extension": ".py",
   "mimetype": "text/x-python",
   "name": "python",
   "nbconvert_exporter": "python",
   "pygments_lexer": "ipython3",
   "version": "3.6.7"
  }
 },
 "nbformat": 4,
 "nbformat_minor": 4
}
