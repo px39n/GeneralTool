{
 "cells": [
  {
   "cell_type": "markdown",
   "metadata": {},
   "source": [
    "## Remote Sensed Hyperspectral Image Classification With The Extended Morphological Profiles and Support Vector Machines\n",
    "This is an example of how to use the Extended Morphological Profiles and Support Vector Machines to classify remote sensed hyperspectral images using Python."
   ]
  },
  {
   "cell_type": "code",
   "execution_count": 1,
   "metadata": {},
   "outputs": [
    {
     "name": "stdout",
     "output_type": "stream",
     "text": [
      "importing Jupyter notebook from A_Dataset_Overview.ipynb\n",
      "importing Jupyter notebook from ML_Preprocess.ipynb\n",
      "importing Jupyter notebook from ML_Method.ipynb\n"
     ]
    }
   ],
   "source": [
    "def test()\n",
    "\n",
    "    import import_ipynb\n",
    "    import A_Dataset_Overview\n",
    "    import ML_Preprocess\n",
    "    import ML_Method\n",
    "    ds,gt,number_of_bands,number_of_rows,number_of_columns=A_Dataset_Overview.load_Indian_DS()  #import data\n",
    "    ds_stand=ML_Preprocess.maxmin(ds)\n",
    "    ds_stand_pc=ML_Method.pca(ds,4)"
   ]
  },
  {
   "cell_type": "markdown",
   "metadata": {},
   "source": [
    "# Extended Morphological Profiles (EMP)\n",
    "\n",
    "The Extended Morphological Profiles (EMP) is based on the mathematical morphology operators known as opening and closing. Briefly, opening and closing transformations can isolate bright (opening) and dark (closing) structures in images. Opening removes small objects from the foreground (usually taken as the bright pixels) of an image, placing them in the background, while closing removes small holes in the foreground, changing small islands of background into foreground. Reconstruction method is able to restore the objects completely after applying the underlying operations (erosion/dilation) from the opening/closing.\n",
    "\n",
    "Each Morphological Profile (MP) enlarges or reduces dark and bright structures using openings and closings by reconstruction, resulting in a more homogeneous version of the original image. At each iteration, the Structuring Element (SE) is increased to capture further spatial information.\n",
    "\n",
    "arr(...,n)--->arr(...,n x features)"
   ]
  },
  {
   "cell_type": "code",
   "execution_count": 8,
   "metadata": {},
   "outputs": [],
   "source": [
    "def emps(arr,features):\n",
    "    # pls see https://github.com/andreybicalho/ExtendedMorphologicalProfiles\n",
    "    return final"
   ]
  },
  {
   "cell_type": "code",
   "execution_count": null,
   "metadata": {},
   "outputs": [],
   "source": []
  },
  {
   "cell_type": "code",
   "execution_count": null,
   "metadata": {},
   "outputs": [],
   "source": []
  },
  {
   "cell_type": "code",
   "execution_count": null,
   "metadata": {},
   "outputs": [],
   "source": []
  }
 ],
 "metadata": {
  "kernelspec": {
   "display_name": "Python 3",
   "language": "python",
   "name": "python3"
  },
  "language_info": {
   "codemirror_mode": {
    "name": "ipython",
    "version": 3
   },
   "file_extension": ".py",
   "mimetype": "text/x-python",
   "name": "python",
   "nbconvert_exporter": "python",
   "pygments_lexer": "ipython3",
   "version": "3.6.7"
  }
 },
 "nbformat": 4,
 "nbformat_minor": 4
}
