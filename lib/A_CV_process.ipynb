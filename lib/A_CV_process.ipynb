{
 "cells": [
  {
   "cell_type": "markdown",
   "metadata": {},
   "source": [
    "### 存储读取"
   ]
  },
  {
   "cell_type": "code",
   "execution_count": null,
   "metadata": {},
   "outputs": [],
   "source": [
    "# (path, filename) = os.path.split(url)\n",
    "#     filename=os.path.splitext(filename)[0]\n",
    "#     img = cv2.imread(url)\n",
    "#     cv2.imwrite(path+\"\\\\\"+filename+\"_sub{}{}.jpg\".format(str(w_index),str(h_index)), cutImg)"
   ]
  },
  {
   "cell_type": "markdown",
   "metadata": {},
   "source": [
    "### 图片分割合并\n",
    "1.图片分割成nxm块\n",
    "2.图片分割成n*n尺寸并采用SAME模式"
   ]
  },
  {
   "cell_type": "code",
   "execution_count": 23,
   "metadata": {},
   "outputs": [
    {
     "name": "stdout",
     "output_type": "stream",
     "text": [
      "(255, 255, 3)\n",
      "(255, 255, 3)\n",
      "(255, 255, 3)\n",
      "(255, 255, 3)\n",
      "(255, 255, 3)\n",
      "(255, 255, 3)\n",
      "(255, 255, 3)\n",
      "(255, 255, 3)\n",
      "(255, 255, 3)\n",
      "(255, 255, 3)\n",
      "(255, 255, 3)\n",
      "(255, 255, 3)\n",
      "(255, 255, 3)\n",
      "(255, 255, 3)\n",
      "(255, 255, 3)\n",
      "(255, 255, 3)\n",
      "(255, 255, 3)\n",
      "(255, 255, 3)\n",
      "(255, 255, 3)\n",
      "(255, 255, 3)\n",
      "(255, 255, 3)\n",
      "(255, 255, 3)\n",
      "(255, 255, 3)\n",
      "(255, 255, 3)\n",
      "(255, 255, 3)\n"
     ]
    }
   ],
   "source": [
    "import cv2\n",
    "import os\n",
    "import numpy as np\n",
    "\n",
    "data_dir=\"D:\\\\Data\\\\wheat ears counting\\\\train\\\\P_G_M_1_sub00.jpg\"\n",
    "img = cv2.imread(data_dir)\n",
    "# 图片分割成nxm块\n",
    "def sub_crop(img,sub_num):\n",
    "    \"\"\"\n",
    "    sub_num=[n,m]\n",
    "    将图片分割成，n行，m列的子图像\n",
    "    \"\"\"\n",
    "    hh, ww = img.shape[:2]  # 返回(高,宽)\n",
    "    for h_index in range(sub_num[0]):\n",
    "        for w_index in range(sub_num[1]):\n",
    "            x = int((ww /sub_num[1]*w_index))\n",
    "            y = int((hh /sub_num[0]*h_index))\n",
    "            w = int(ww / sub_num[1])\n",
    "            h = int(hh / sub_num[0])\n",
    "            cutImg = img[y:y + h, x:x + w]\n",
    "            print(cutImg.shape)\n",
    "            \n",
    "def sub_crop(img,size,padding=\"SAME\"):\n",
    "    \"\"\"\n",
    "    sub_num=[n,m]\n",
    "    将图片分割成，size*size的子图像，对于边缘，采用SAME模式\n",
    "    \"\"\"\n",
    "    h, w = img.shape[:2]  # 返回(高,宽)\n",
    "    assert(size<=h or size<=w)\n",
    "    sub_num=[int(h/size),int(w/size)]\n",
    "    for h_index in range(sub_num[0]+1):\n",
    "        for w_index in range(sub_num[1]+1):\n",
    "            h0=size*h_index if h_index!=sub_num[0] else h-size\n",
    "            w0=size*w_index if w_index!=sub_num[1] else w-size\n",
    "            cutImg = img[h0:h0+size, w0:w0+size]\n",
    "            \n",
    "            print(cutImg.shape)\n",
    "\n",
    "sub_crop(img,255)\n",
    "\n",
    "def sub_crop(img,size,padding=\"NORMAL\"):\n",
    "    \"\"\"\n",
    "    sub_num=[n,m]\n",
    "    将图片分割成，size*size的子图像，对于边缘，采用SAME模式\n",
    "    \"\"\"\n",
    "    h, w = img.shape[:2]  # 返回(高,宽)\n",
    "    result=np.zeros((h,w))\n",
    "    assert(size<=h or size<=w)\n",
    "    msize=int(size/2)\n",
    "    offset=int(size/4)\n",
    "    sub_num=[int(h/msize),int(w/msize)]\n",
    "    for h_index in range(sub_num[0]-1):\n",
    "        for w_index in range(sub_num[1]-1):\n",
    "            h0=msize*h_index \n",
    "            w0=msize*w_index  \n",
    "            cutImg = img[h0:h0+size, w0:w0+size]\n",
    "            print(cutImg.shape)\n",
    "            global err\n",
    "            err=cutImg\n",
    "            cutImg=model(cutImg[np.newaxis,...])[4].numpy()[0,:,:,0].round()\n",
    "            cutImg=cutImg[offset:3*offset, offset:3*offset]\n",
    "            #clear_output(wait=True)\n",
    "            #print(h0+offset,h0+3*offset)\n",
    "            result[h0+offset:h0+3*offset, w0+offset:w0+3*offset]=cutImg\n",
    "            \n",
    "    return np.squeeze(result)     \n",
    "a=sub_crop(img,512)\n",
    "plt.imshow(a)\n"
   ]
  },
  {
   "cell_type": "code",
   "execution_count": 13,
   "metadata": {},
   "outputs": [
    {
     "data": {
      "text/plain": [
       "2"
      ]
     },
     "execution_count": 13,
     "metadata": {},
     "output_type": "execute_result"
    }
   ],
   "source": []
  },
  {
   "cell_type": "code",
   "execution_count": null,
   "metadata": {},
   "outputs": [],
   "source": []
  }
 ],
 "metadata": {
  "kernelspec": {
   "display_name": "Python 3",
   "language": "python",
   "name": "python3"
  },
  "language_info": {
   "codemirror_mode": {
    "name": "ipython",
    "version": 3
   },
   "file_extension": ".py",
   "mimetype": "text/x-python",
   "name": "python",
   "nbconvert_exporter": "python",
   "pygments_lexer": "ipython3",
   "version": "3.6.7"
  }
 },
 "nbformat": 4,
 "nbformat_minor": 4
}
